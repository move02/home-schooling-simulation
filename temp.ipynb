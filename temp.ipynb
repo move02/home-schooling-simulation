{
 "metadata": {
  "language_info": {
   "codemirror_mode": {
    "name": "ipython",
    "version": 3
   },
   "file_extension": ".py",
   "mimetype": "text/x-python",
   "name": "python",
   "nbconvert_exporter": "python",
   "pygments_lexer": "ipython3",
   "version": "3.6.7-final"
  },
  "orig_nbformat": 2,
  "kernelspec": {
   "name": "python36764bitc7d730ad48fb4f59abd41817a099a878",
   "display_name": "Python 3.6.7 64-bit"
  }
 },
 "nbformat": 4,
 "nbformat_minor": 2,
 "cells": [
  {
   "cell_type": "code",
   "execution_count": 45,
   "metadata": {},
   "outputs": [],
   "source": [
    "import requests\n",
    "\n",
    "key = \"uMauWZmEzmgJEzy67IU%2BHHorQAHul4Q0srcZbseazCrNG5jZYAMl%2BOQ%2FIf%2BGXtg26AGTP5GXKCrlv%2FLX6NhFIA%3D%3D\"\n",
    "\n",
    "url = f\"http://apis.data.go.kr/1360000/AsosHourlyInfoService/getWthrDataList?dataType=json&dataCd=ASOS&dateCd=HR&startDt=20200719&startHh=01&endDt=20200720&endHh=23&stnIds=133&numOfRows=10&pageNo=1&serviceKey={key}\"\n",
    "\n",
    "# url = f\"http://apis.data.go.kr/1360000/VilageFcstInfoService/getUltraSrtFcst?serviceKey={key}&base_date=20200721&base_time=1030&nx=67&ny=104&numOfRows=300&dataType=json\"\n",
    "\n",
    "res = requests.get(url=url)\n"
   ]
  },
  {
   "cell_type": "code",
   "execution_count": 46,
   "metadata": {},
   "outputs": [
    {
     "output_type": "execute_result",
     "data": {
      "text/plain": "{'response': {'header': {'resultCode': '00', 'resultMsg': 'NORMAL_SERVICE'},\n  'body': {'dataType': 'JSON',\n   'items': {'item': [{'tm': '2020-07-19 01:00',\n      'rnum': '1',\n      'stnId': '133',\n      'ta': 23.8,\n      'taQcflg': '',\n      'rn': 0.0,\n      'rnQcflg': '',\n      'ws': 2.0,\n      'wsQcflg': '',\n      'wd': 110,\n      'wdQcflg': '',\n      'hm': 71,\n      'hmQcflg': '',\n      'pv': 20.9,\n      'td': 18.2,\n      'pa': 1000.8,\n      'paQcflg': '',\n      'ps': 1008.8,\n      'psQcflg': '',\n      'ss': 0.0,\n      'ssQcflg': '9',\n      'icsr': 0.0,\n      'dsnw': 0.0,\n      'hr3Fhsc': 0.0,\n      'dc10Tca': 7,\n      'dc10LmcsCa': 0,\n      'clfmAbbrCd': '',\n      'lcsCh': 0,\n      'vs': 3000,\n      'gndSttCd': 0,\n      'dmstMtphNo': '',\n      'ts': 23.4,\n      'tsQcflg': '',\n      'm005Te': 25.7,\n      'm01Te': 26.1,\n      'm02Te': 26.5,\n      'm03Te': 26.3,\n      'stnNm': '대전'},\n     {'tm': '2020-07-19 02:00',\n      'rnum': '2',\n      'stnId': '133',\n      'ta': 23.6,\n      'taQcflg': '',\n      'rn': 0.0,\n      'rnQcflg': '',\n      'ws': 2.2,\n      'wsQcflg': '',\n      'wd': 90,\n      'wdQcflg': '',\n      'hm': 74,\n      'hmQcflg': '',\n      'pv': 21.4,\n      'td': 18.6,\n      'pa': 1000.3,\n      'paQcflg': '',\n      'ps': 1008.3,\n      'psQcflg': '',\n      'ss': 0.0,\n      'ssQcflg': '9',\n      'icsr': 0.0,\n      'dsnw': 0.0,\n      'hr3Fhsc': 0.0,\n      'dc10Tca': 10,\n      'dc10LmcsCa': 10,\n      'clfmAbbrCd': '',\n      'lcsCh': 22,\n      'vs': 2779,\n      'gndSttCd': 0,\n      'dmstMtphNo': '',\n      'ts': 23.3,\n      'tsQcflg': '',\n      'm005Te': 25.5,\n      'm01Te': 25.9,\n      'm02Te': 26.3,\n      'm03Te': 26.2,\n      'stnNm': '대전'},\n     {'tm': '2020-07-19 03:00',\n      'rnum': '3',\n      'stnId': '133',\n      'ta': 22.5,\n      'taQcflg': '',\n      'rn': 0.4,\n      'rnQcflg': '',\n      'ws': 1.1,\n      'wsQcflg': '',\n      'wd': 110,\n      'wdQcflg': '',\n      'hm': 86,\n      'hmQcflg': '',\n      'pv': 23.4,\n      'td': 20.0,\n      'pa': 1000.2,\n      'paQcflg': '',\n      'ps': 1008.2,\n      'psQcflg': '',\n      'ss': 0.0,\n      'ssQcflg': '9',\n      'icsr': 0.0,\n      'dsnw': 0.0,\n      'hr3Fhsc': 0.0,\n      'dc10Tca': 10,\n      'dc10LmcsCa': 8,\n      'clfmAbbrCd': 'StNs',\n      'lcsCh': 10,\n      'vs': 673,\n      'gndSttCd': 0,\n      'dmstMtphNo': '190201',\n      'ts': 23.0,\n      'tsQcflg': '',\n      'm005Te': 25.2,\n      'm01Te': 25.7,\n      'm02Te': 26.2,\n      'm03Te': 26.1,\n      'stnNm': '대전'},\n     {'tm': '2020-07-19 04:00',\n      'rnum': '4',\n      'stnId': '133',\n      'ta': 21.3,\n      'taQcflg': '',\n      'rn': 3.4,\n      'rnQcflg': '',\n      'ws': 0.7,\n      'wsQcflg': '',\n      'wd': 320,\n      'wdQcflg': '',\n      'hm': 97,\n      'hmQcflg': '',\n      'pv': 24.4,\n      'td': 20.7,\n      'pa': 999.9,\n      'paQcflg': '',\n      'ps': 1008.0,\n      'psQcflg': '',\n      'ss': 0.0,\n      'ssQcflg': '9',\n      'icsr': 0.0,\n      'dsnw': 0.0,\n      'hr3Fhsc': 0.0,\n      'dc10Tca': 10,\n      'dc10LmcsCa': 7,\n      'clfmAbbrCd': 'StNs',\n      'lcsCh': 9,\n      'vs': 800,\n      'gndSttCd': 0,\n      'dmstMtphNo': '1901',\n      'ts': 22.6,\n      'tsQcflg': '',\n      'm005Te': 24.8,\n      'm01Te': 25.5,\n      'm02Te': 26.0,\n      'm03Te': 26.0,\n      'stnNm': '대전'},\n     {'tm': '2020-07-19 05:00',\n      'rnum': '5',\n      'stnId': '133',\n      'ta': 21.2,\n      'taQcflg': '',\n      'rn': 3.4,\n      'rnQcflg': '',\n      'ws': 0.4,\n      'wsQcflg': '',\n      'wd': 0,\n      'wdQcflg': '',\n      'hm': 97,\n      'hmQcflg': '',\n      'pv': 24.3,\n      'td': 20.6,\n      'pa': 999.5,\n      'paQcflg': '',\n      'ps': 1007.6,\n      'psQcflg': '',\n      'ss': 0.0,\n      'ssQcflg': '9',\n      'icsr': 0.0,\n      'dsnw': 0.0,\n      'hr3Fhsc': 0.0,\n      'dc10Tca': 10,\n      'dc10LmcsCa': 8,\n      'clfmAbbrCd': 'StNs',\n      'lcsCh': 11,\n      'vs': 736,\n      'gndSttCd': 0,\n      'dmstMtphNo': '1901',\n      'ts': 22.5,\n      'tsQcflg': '',\n      'm005Te': 24.4,\n      'm01Te': 25.1,\n      'm02Te': 25.8,\n      'm03Te': 25.9,\n      'stnNm': '대전'},\n     {'tm': '2020-07-19 06:00',\n      'rnum': '6',\n      'stnId': '133',\n      'ta': 21.1,\n      'taQcflg': '',\n      'rn': 0.0,\n      'rnQcflg': '',\n      'ws': 2.5,\n      'wsQcflg': '',\n      'wd': 110,\n      'wdQcflg': '',\n      'hm': 97,\n      'hmQcflg': '',\n      'pv': 24.1,\n      'td': 20.5,\n      'pa': 999.3,\n      'paQcflg': '',\n      'ps': 1007.4,\n      'psQcflg': '',\n      'ss': 0.0,\n      'ssQcflg': '',\n      'icsr': 0.0,\n      'dsnw': 0.0,\n      'hr3Fhsc': 0.0,\n      'dc10Tca': 9,\n      'dc10LmcsCa': 6,\n      'clfmAbbrCd': 'ScAc',\n      'lcsCh': 14,\n      'vs': 522,\n      'gndSttCd': 0,\n      'dmstMtphNo': '1901',\n      'ts': 22.6,\n      'tsQcflg': '',\n      'm005Te': 24.2,\n      'm01Te': 24.9,\n      'm02Te': 25.6,\n      'm03Te': 25.8,\n      'stnNm': '대전'},\n     {'tm': '2020-07-19 07:00',\n      'rnum': '7',\n      'stnId': '133',\n      'ta': 21.5,\n      'taQcflg': '',\n      'rn': 0.0,\n      'rnQcflg': '9',\n      'ws': 2.8,\n      'wsQcflg': '',\n      'wd': 140,\n      'wdQcflg': '',\n      'hm': 97,\n      'hmQcflg': '',\n      'pv': 24.7,\n      'td': 20.9,\n      'pa': 998.9,\n      'paQcflg': '',\n      'ps': 1007.0,\n      'psQcflg': '',\n      'ss': 0.0,\n      'ssQcflg': '',\n      'icsr': 0.17,\n      'dsnw': 0.0,\n      'hr3Fhsc': 0.0,\n      'dc10Tca': 8,\n      'dc10LmcsCa': 2,\n      'clfmAbbrCd': 'ScAc',\n      'lcsCh': 17,\n      'vs': 980,\n      'gndSttCd': 0,\n      'dmstMtphNo': '19',\n      'ts': 23.3,\n      'tsQcflg': '',\n      'm005Te': 24.3,\n      'm01Te': 24.7,\n      'm02Te': 25.4,\n      'm03Te': 25.7,\n      'stnNm': '대전'},\n     {'tm': '2020-07-19 08:00',\n      'rnum': '8',\n      'stnId': '133',\n      'ta': 22.5,\n      'taQcflg': '',\n      'rn': 0.0,\n      'rnQcflg': '9',\n      'ws': 3.2,\n      'wsQcflg': '',\n      'wd': 110,\n      'wdQcflg': '',\n      'hm': 93,\n      'hmQcflg': '',\n      'pv': 25.3,\n      'td': 21.3,\n      'pa': 998.8,\n      'paQcflg': '',\n      'ps': 1006.8,\n      'psQcflg': '',\n      'ss': 0.2,\n      'ssQcflg': '',\n      'icsr': 0.74,\n      'dsnw': 0.0,\n      'hr3Fhsc': 0.0,\n      'dc10Tca': 8,\n      'dc10LmcsCa': 3,\n      'clfmAbbrCd': 'ScAc',\n      'lcsCh': 17,\n      'vs': 1708,\n      'gndSttCd': 0,\n      'dmstMtphNo': '19',\n      'ts': 25.0,\n      'tsQcflg': '',\n      'm005Te': 24.7,\n      'm01Te': 24.6,\n      'm02Te': 25.3,\n      'm03Te': 25.6,\n      'stnNm': '대전'},\n     {'tm': '2020-07-19 09:00',\n      'rnum': '9',\n      'stnId': '133',\n      'ta': 23.6,\n      'taQcflg': '',\n      'rn': 0.0,\n      'rnQcflg': '9',\n      'ws': 3.8,\n      'wsQcflg': '',\n      'wd': 140,\n      'wdQcflg': '',\n      'hm': 89,\n      'hmQcflg': '',\n      'pv': 25.8,\n      'td': 21.6,\n      'pa': 998.8,\n      'paQcflg': '',\n      'ps': 1006.8,\n      'psQcflg': '',\n      'ss': 0.4,\n      'ssQcflg': '',\n      'icsr': 1.27,\n      'dsnw': 0.0,\n      'hr3Fhsc': 0.0,\n      'dc10Tca': 8,\n      'dc10LmcsCa': 3,\n      'clfmAbbrCd': 'ScAc',\n      'lcsCh': 15,\n      'vs': 2116,\n      'gndSttCd': 0,\n      'dmstMtphNo': '',\n      'ts': 27.2,\n      'tsQcflg': '',\n      'm005Te': 25.4,\n      'm01Te': 24.8,\n      'm02Te': 25.2,\n      'm03Te': 25.5,\n      'stnNm': '대전'},\n     {'tm': '2020-07-19 10:00',\n      'rnum': '10',\n      'stnId': '133',\n      'ta': 24.9,\n      'taQcflg': '',\n      'rn': 0.0,\n      'rnQcflg': '9',\n      'ws': 3.5,\n      'wsQcflg': '',\n      'wd': 110,\n      'wdQcflg': '',\n      'hm': 85,\n      'hmQcflg': '',\n      'pv': 26.6,\n      'td': 22.1,\n      'pa': 999.2,\n      'paQcflg': '',\n      'ps': 1007.2,\n      'psQcflg': '',\n      'ss': 0.3,\n      'ssQcflg': '',\n      'icsr': 1.36,\n      'dsnw': 0.0,\n      'hr3Fhsc': 0.0,\n      'dc10Tca': 8,\n      'dc10LmcsCa': 1,\n      'clfmAbbrCd': 'ScAc',\n      'lcsCh': 12,\n      'vs': 2263,\n      'gndSttCd': 0,\n      'dmstMtphNo': '',\n      'ts': 28.8,\n      'tsQcflg': '',\n      'm005Te': 26.2,\n      'm01Te': 25.1,\n      'm02Te': 25.2,\n      'm03Te': 25.4,\n      'stnNm': '대전'}]},\n   'pageNo': 1,\n   'numOfRows': 10,\n   'totalCount': 47}}}"
     },
     "metadata": {},
     "execution_count": 46
    }
   ],
   "source": [
    "res.json()"
   ]
  },
  {
   "cell_type": "code",
   "execution_count": 35,
   "metadata": {},
   "outputs": [
    {
     "output_type": "execute_result",
     "data": {
      "text/plain": "dict_keys(['resultCode', 'resultMsg'])"
     },
     "metadata": {},
     "execution_count": 35
    }
   ],
   "source": [
    "jresult[\"response\"][\"header\"].keys()"
   ]
  }
 ]
}